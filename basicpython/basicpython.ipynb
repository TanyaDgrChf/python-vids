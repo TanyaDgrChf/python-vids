{
 "cells": [
  {
   "cell_type": "code",
   "execution_count": null,
   "metadata": {},
   "outputs": [],
   "source": [
    "strings = 'cake'\n",
    "integers = 346782\n",
    "floats = 347583.3456753478\n",
    "booleans = True\n",
    "null = None"
   ]
  },
  {
   "cell_type": "code",
   "execution_count": 4,
   "metadata": {},
   "outputs": [
    {
     "name": "stdout",
     "output_type": "stream",
     "text": [
      "12\n"
     ]
    }
   ],
   "source": [
    "ans = 10 + 2\n",
    "print(ans)"
   ]
  },
  {
   "cell_type": "code",
   "execution_count": 10,
   "metadata": {},
   "outputs": [
    {
     "name": "stdout",
     "output_type": "stream",
     "text": [
      "['item', 'item1', 'item2']\n",
      "item\n",
      "12\n",
      "54\n",
      "24\n"
     ]
    }
   ],
   "source": [
    "bottles = []\n",
    "bottles.append('item')\n",
    "bottles.append('item1')\n",
    "bottles.append('item2')\n",
    "print(bottles)\n",
    "print(bottles[0])\n",
    "\n",
    "books = {}\n",
    "books['pens'] = 12\n",
    "print(books['pens'])\n",
    "\n",
    "bottles = [12, 23, 54, 90]\n",
    "print(bottles[2])\n",
    "\n",
    "books = {\n",
    "    12: 24,\n",
    "    24: 48\n",
    "}\n",
    "print(books[12])"
   ]
  },
  {
   "cell_type": "markdown",
   "metadata": {},
   "source": [
    "if, else, elif"
   ]
  },
  {
   "cell_type": "code",
   "execution_count": 10,
   "metadata": {},
   "outputs": [
    {
     "name": "stdout",
     "output_type": "stream",
     "text": [
      "ughias\n"
     ]
    }
   ],
   "source": [
    "if 10 == 1:\n",
    "    print('real')\n",
    "elif 5 == 2:\n",
    "    print('this')\n",
    "else:\n",
    "    print('ughias')\n"
   ]
  },
  {
   "cell_type": "markdown",
   "metadata": {},
   "source": [
    "while for"
   ]
  },
  {
   "cell_type": "code",
   "execution_count": 1,
   "metadata": {},
   "outputs": [
    {
     "name": "stdout",
     "output_type": "stream",
     "text": [
      "9\n",
      "8\n",
      "7\n",
      "6\n",
      "5\n",
      "4\n",
      "3\n",
      "2\n",
      "1\n",
      "0\n"
     ]
    }
   ],
   "source": [
    "for i in range(0, 10, 2):\n",
    "    pass\n",
    "\n",
    "flag = 10\n",
    "while flag > 0:\n",
    "    flag -= 1\n",
    "    print(flag)"
   ]
  }
 ],
 "metadata": {
  "kernelspec": {
   "display_name": "Python 3",
   "language": "python",
   "name": "python3"
  },
  "language_info": {
   "codemirror_mode": {
    "name": "ipython",
    "version": 3
   },
   "file_extension": ".py",
   "mimetype": "text/x-python",
   "name": "python",
   "nbconvert_exporter": "python",
   "pygments_lexer": "ipython3",
   "version": "3.12.1"
  }
 },
 "nbformat": 4,
 "nbformat_minor": 2
}
