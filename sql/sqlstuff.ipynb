{
 "cells": [
  {
   "cell_type": "markdown",
   "metadata": {},
   "source": [
    "SQL with sqlite in python"
   ]
  },
  {
   "cell_type": "code",
   "execution_count": 5,
   "metadata": {},
   "outputs": [],
   "source": [
    "# Importing the library, this is used in all future code snippets\n",
    "import sqlite3\n",
    "\n",
    "# Connecting to the db file\n",
    "conn = sqlite3.connect('file.db')\n",
    "\n",
    "# Create a cursor to interact with the database\n",
    "cursor = conn.cursor()\n",
    "\n",
    "cursor.execute('''CREATE TABLE IF NOT EXISTS Beverages (\n",
    "               BeverageName TEXT PRIMARY KEY,\n",
    "               Volume INTEGER\n",
    ")''')\n",
    "\n",
    "conn.close()"
   ]
  },
  {
   "cell_type": "markdown",
   "metadata": {},
   "source": [
    "Create"
   ]
  },
  {
   "cell_type": "code",
   "execution_count": 6,
   "metadata": {},
   "outputs": [],
   "source": [
    "import sqlite3\n",
    "conn = sqlite3.connect('file.db')\n",
    "cursor = conn.cursor()\n",
    "\n",
    "cursor.execute('''INSERT INTO Beverages (BeverageName, Volume)\n",
    "               VALUES (?,?)''', ('Ice Lemon Tea', 300))\n",
    "\n",
    "conn.close()"
   ]
  },
  {
   "cell_type": "markdown",
   "metadata": {},
   "source": [
    "Read"
   ]
  },
  {
   "cell_type": "code",
   "execution_count": 7,
   "metadata": {},
   "outputs": [
    {
     "name": "stdout",
     "output_type": "stream",
     "text": [
      "[]\n"
     ]
    }
   ],
   "source": [
    "import sqlite3\n",
    "conn = sqlite3.connect('file.db')\n",
    "cursor = conn.cursor()\n",
    "\n",
    "cursor.execute('''SELECT BeverageName\n",
    "               FROM Beverages\n",
    "               WHERE Volume = 300;\n",
    "''')\n",
    "rows = cursor.fetchall()\n",
    "print(rows)\n",
    "\n",
    "conn.close()"
   ]
  },
  {
   "cell_type": "markdown",
   "metadata": {},
   "source": [
    "Update"
   ]
  },
  {
   "cell_type": "code",
   "execution_count": null,
   "metadata": {},
   "outputs": [],
   "source": []
  }
 ],
 "metadata": {
  "kernelspec": {
   "display_name": ".venv",
   "language": "python",
   "name": "python3"
  },
  "language_info": {
   "codemirror_mode": {
    "name": "ipython",
    "version": 3
   },
   "file_extension": ".py",
   "mimetype": "text/x-python",
   "name": "python",
   "nbconvert_exporter": "python",
   "pygments_lexer": "ipython3",
   "version": "3.12.1"
  }
 },
 "nbformat": 4,
 "nbformat_minor": 2
}
