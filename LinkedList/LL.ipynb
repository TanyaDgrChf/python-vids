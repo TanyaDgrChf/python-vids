{
 "cells": [
  {
   "cell_type": "code",
   "execution_count": 6,
   "metadata": {},
   "outputs": [
    {
     "name": "stdout",
     "output_type": "stream",
     "text": [
      "['ghi', 'def', 'abc']\n",
      "['def', 'abc']\n"
     ]
    }
   ],
   "source": [
    "class Node:\n",
    "    def __init__(self, data, pointer=None):\n",
    "        self.data = data\n",
    "        self.pointer = pointer\n",
    "    \n",
    "    def set_pointer(self, new):\n",
    "        self.pointer = new\n",
    "\n",
    "    def get_pointer(self):\n",
    "        return self.pointer\n",
    "    \n",
    "    def get_data(self):\n",
    "        return self.data\n",
    "\n",
    "\n",
    "class LinkedList:\n",
    "    def __init__(self, head=None):\n",
    "        self.head = head\n",
    "\n",
    "    def is_empty(self):\n",
    "        return self.head == None\n",
    "\n",
    "    def insert_head(self, data):\n",
    "        new = Node(data)\n",
    "        if self.is_empty():\n",
    "            self.head = new\n",
    "        else:\n",
    "            new.set_pointer(self.head)\n",
    "            self.head = new\n",
    "\n",
    "    def delete_head(self):\n",
    "        if self.is_empty():\n",
    "            print('Failed deletion: List is empty')\n",
    "        else:\n",
    "            new = self.head.get_pointer()\n",
    "            self.head = new\n",
    "        \n",
    "\n",
    "    def traversal(self):\n",
    "        curr = self.head\n",
    "        output = []\n",
    "        while curr is not None:\n",
    "            output.append(curr.get_data())\n",
    "            curr = curr.get_pointer()  # Corrected: Added parentheses to call the method\n",
    "        return output\n",
    "    \n",
    "ll = LinkedList()\n",
    "ll.insert_head('abc')\n",
    "ll.insert_head('def')\n",
    "ll.insert_head('ghi')\n",
    "print(ll.traversal())\n",
    "ll.delete_head()\n",
    "print(ll.traversal())"
   ]
  }
 ],
 "metadata": {
  "kernelspec": {
   "display_name": "Python 3",
   "language": "python",
   "name": "python3"
  },
  "language_info": {
   "codemirror_mode": {
    "name": "ipython",
    "version": 3
   },
   "file_extension": ".py",
   "mimetype": "text/x-python",
   "name": "python",
   "nbconvert_exporter": "python",
   "pygments_lexer": "ipython3",
   "version": "3.12.1"
  }
 },
 "nbformat": 4,
 "nbformat_minor": 2
}
